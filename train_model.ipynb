{
 "cells": [
  {
   "metadata": {},
   "cell_type": "code",
   "outputs": [],
   "execution_count": null,
   "source": [
    "from datasets import load_dataset\n",
    "from transformers import T5Tokenizer, T5ForConditionalGeneration, Trainer, TrainingArguments\n",
    "import torch"
   ],
   "id": "6c26ed295fb21967"
  },
  {
   "metadata": {},
   "cell_type": "code",
   "outputs": [],
   "execution_count": null,
   "source": [
    "# Load CodeSearchNet Dataset\n",
    "dataset = load_dataset(\"code_search_net\", \"python\")\n",
    "train_data, test_data = dataset[\"train\"], dataset[\"test\"]"
   ],
   "id": "f786539cd41ca9c8"
  },
  {
   "metadata": {},
   "cell_type": "code",
   "outputs": [],
   "execution_count": null,
   "source": [
    "# Load T5 tokenizer and model\n",
    "tokenizer = T5Tokenizer.from_pretrained(\"t5-small\")\n",
    "model = T5ForConditionalGeneration.from_pretrained(\"t5-small\")"
   ],
   "id": "26ca513fd1219c0e"
  },
  {
   "metadata": {},
   "cell_type": "code",
   "outputs": [],
   "execution_count": null,
   "source": [
    "# Move the model to GPU if available\n",
    "device = torch.device(\"cuda\" if torch.cuda.is_available() else \"cpu\")\n",
    "model.to(device)"
   ],
   "id": "7ab44b5c39ce39c7"
  },
  {
   "metadata": {},
   "cell_type": "code",
   "outputs": [],
   "execution_count": null,
   "source": [
    "def preprocess_data(batch):\n",
    "    # Tokenize formatted code as target\n",
    "    target_tokens = tokenizer(batch[\"func_code_string\"], padding=\"max_length\", truncation=True, max_length=128)\n",
    "    # Create unformatted version by removing spaces from each code snippet in the batch\n",
    "    unformatted_code = [code.replace(\" \", \"\") for code in batch[\"func_code_string\"]]\n",
    "    input_tokens = tokenizer(unformatted_code, padding=\"max_length\", truncation=True, max_length=128)\n",
    "\n",
    "    return {\n",
    "        \"input_ids\": input_tokens[\"input_ids\"],\n",
    "        \"attention_mask\": input_tokens[\"attention_mask\"],\n",
    "        \"labels\": target_tokens[\"input_ids\"]\n",
    "    }"
   ],
   "id": "1ac24465873a41b9"
  },
  {
   "metadata": {},
   "cell_type": "code",
   "outputs": [],
   "execution_count": null,
   "source": [
    "# Apply preprocessing\n",
    "train_data = train_data.map(preprocess_data, batched=True)\n",
    "test_data = test_data.map(preprocess_data, batched=True)"
   ],
   "id": "57e9ea71d2a6f1dd"
  },
  {
   "metadata": {},
   "cell_type": "code",
   "outputs": [],
   "execution_count": null,
   "source": [
    "# Define training arguments and Trainer\n",
    "\n",
    "training_args = TrainingArguments(\n",
    "    output_dir=\"./results\",\n",
    "    evaluation_strategy=\"epoch\",\n",
    "    learning_rate=2e-5,\n",
    "    per_device_train_batch_size=64,\n",
    "    per_device_eval_batch_size=64,\n",
    "    num_train_epochs=10,\n",
    "    weight_decay=0.01,\n",
    "    report_to=\"none\"  # This disables W&B logging\n",
    ")\n",
    "\n",
    "trainer = Trainer(\n",
    "    model=model,\n",
    "    args=training_args,\n",
    "    train_dataset=train_data,\n",
    "    eval_dataset=test_data\n",
    ")"
   ],
   "id": "1cd341fcbcc6f280"
  },
  {
   "metadata": {},
   "cell_type": "code",
   "outputs": [],
   "execution_count": null,
   "source": [
    "# Train the model\n",
    "trainer.train()"
   ],
   "id": "44ba6e991e8e961c"
  }
 ],
 "metadata": {
  "kernelspec": {
   "display_name": "Python 3",
   "language": "python",
   "name": "python3"
  },
  "language_info": {
   "codemirror_mode": {
    "name": "ipython",
    "version": 2
   },
   "file_extension": ".py",
   "mimetype": "text/x-python",
   "name": "python",
   "nbconvert_exporter": "python",
   "pygments_lexer": "ipython2",
   "version": "2.7.6"
  }
 },
 "nbformat": 4,
 "nbformat_minor": 5
}
